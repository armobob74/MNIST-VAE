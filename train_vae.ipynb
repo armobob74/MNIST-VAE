{
 "cells": [
  {
   "cell_type": "code",
   "execution_count": 43,
   "id": "3ab46ca9",
   "metadata": {},
   "outputs": [],
   "source": [
    "from torch.utils.data import DataLoader\n",
    "from torchvision.datasets import MNIST\n",
    "from torchvision.transforms import ToTensor\n",
    "from tqdm import tqdm\n",
    "import torch\n",
    "import torch.nn as nn\n",
    "import torch.optim as optim\n",
    "from model import VAE, vae_loss, generate_samples_from_vae"
   ]
  },
  {
   "cell_type": "code",
   "execution_count": 44,
   "id": "3a6542c2",
   "metadata": {},
   "outputs": [],
   "source": [
    "device = torch.device(\"cuda\" if torch.cuda.is_available() else \"cpu\")\n",
    "latent_dim = 20\n",
    "model = VAE(latent_dim=latent_dim).to(device)"
   ]
  },
  {
   "cell_type": "code",
   "execution_count": null,
   "id": "985f7eed",
   "metadata": {
    "scrolled": false
   },
   "outputs": [
    {
     "name": "stderr",
     "output_type": "stream",
     "text": [
      "Epoch 1/300: 100%|████████████████████████████████████████████████████████████████| 3750/3750 [00:25<00:00, 147.09it/s]\n",
      "Epoch 2/300:   0%|▎                                                                 | 16/3750 [00:00<00:24, 150.94it/s]"
     ]
    },
    {
     "name": "stdout",
     "output_type": "stream",
     "text": [
      "Epoch 1/300, Train Loss: 123.8666\n"
     ]
    },
    {
     "name": "stderr",
     "output_type": "stream",
     "text": [
      "Epoch 2/300: 100%|████████████████████████████████████████████████████████████████| 3750/3750 [00:24<00:00, 151.50it/s]\n",
      "Epoch 3/300:   1%|▌                                                                 | 30/3750 [00:00<00:25, 148.26it/s]"
     ]
    },
    {
     "name": "stdout",
     "output_type": "stream",
     "text": [
      "Epoch 2/300, Train Loss: 105.7426\n"
     ]
    },
    {
     "name": "stderr",
     "output_type": "stream",
     "text": [
      "Epoch 3/300:  37%|███████████████████████▊                                        | 1398/3750 [00:09<00:15, 150.16it/s]"
     ]
    }
   ],
   "source": [
    "#train vae on mnist\n",
    "batch_size=16\n",
    "num_epochs=300\n",
    "learning_rate=1e-3\n",
    "save_model=True\n",
    "\n",
    "train_dataset = MNIST(root='./data', train=True, transform=ToTensor(), download=True)\n",
    "train_loader = DataLoader(train_dataset, batch_size=batch_size, shuffle=True)\n",
    "\n",
    "optimizer = optim.Adam(model.parameters(), lr=learning_rate)\n",
    "criterion = nn.BCELoss(reduction='sum')\n",
    "\n",
    "model.train()\n",
    "for epoch in range(num_epochs):\n",
    "    train_loss = 0\n",
    "    for batch_idx, (data, _) in tqdm(enumerate(train_loader), total=len(train_loader), desc=f\"Epoch {epoch+1}/{num_epochs}\"):\n",
    "        data = data.to(device)\n",
    "        optimizer.zero_grad()\n",
    "        recon_batch, mu, logvar = model(data)\n",
    "        loss = vae_loss(recon_batch, data, mu, logvar, criterion)\n",
    "        loss.backward()\n",
    "        train_loss += loss.item()\n",
    "        optimizer.step()\n",
    "\n",
    "    print(f\"Epoch {epoch+1}/{num_epochs}, Train Loss: {train_loss/len(train_loader.dataset):.4f}\")"
   ]
  },
  {
   "cell_type": "code",
   "execution_count": null,
   "id": "d8b1a5ce",
   "metadata": {},
   "outputs": [],
   "source": [
    "generate_samples_from_vae(model,device,latent_dim, 10)"
   ]
  },
  {
   "cell_type": "code",
   "execution_count": null,
   "id": "230a0a8c",
   "metadata": {},
   "outputs": [],
   "source": [
    "if save_model == True:\n",
    "    torch.save(model.state_dict(), \"vae_mnist.pth\")"
   ]
  }
 ],
 "metadata": {
  "kernelspec": {
   "display_name": "Python 3",
   "language": "python",
   "name": "python3"
  },
  "language_info": {
   "codemirror_mode": {
    "name": "ipython",
    "version": 3
   },
   "file_extension": ".py",
   "mimetype": "text/x-python",
   "name": "python",
   "nbconvert_exporter": "python",
   "pygments_lexer": "ipython3",
   "version": "3.9.2"
  }
 },
 "nbformat": 4,
 "nbformat_minor": 5
}
